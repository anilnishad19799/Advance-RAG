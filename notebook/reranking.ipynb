{
 "cells": [
  {
   "cell_type": "markdown",
   "id": "e7270403",
   "metadata": {},
   "source": [
    "### Document Reranking\n",
    "\n",
    "**Reranking** is the process of reordering a set of retrieved documents so that the most relevant ones appear first.  \n",
    "\n",
    "**How it works:**\n",
    "1. Retrieve candidate documents using a search method (e.g., BM25, vector search).\n",
    "2. Use a reranker model (like **CohereRerank**) to score each document based on query relevance.\n",
    "3. Sort the documents by their scores and select the top-k for use in applications like LLM-based Q&A.\n",
    "\n",
    "**Benefits:**  \n",
    "- Improves relevance of results\n",
    "- Reduces noise from less relevant documents\n",
    "- Enhances final answer quality when used with LLMs"
   ]
  },
  {
   "cell_type": "markdown",
   "id": "95400bfc",
   "metadata": {},
   "source": [
    "### Reading and Storing Data in vector database"
   ]
  },
  {
   "cell_type": "code",
   "execution_count": 1,
   "id": "61d1889d",
   "metadata": {},
   "outputs": [],
   "source": [
    "import getpass\n",
    "import os\n",
    "\n",
    "if not os.environ.get(\"OPENAI_API_KEY\"):\n",
    "  os.environ[\"OPENAI_API_KEY\"] = getpass.getpass(\"Enter API key for OpenAI: \")\n",
    "\n",
    "from langchain_openai import OpenAIEmbeddings\n",
    "\n",
    "embeddings = OpenAIEmbeddings(model=\"text-embedding-3-small\")"
   ]
  },
  {
   "cell_type": "code",
   "execution_count": 2,
   "id": "f858384d",
   "metadata": {},
   "outputs": [],
   "source": [
    "from langchain_chroma import Chroma\n",
    "\n",
    "vector_store = Chroma(\n",
    "    collection_name=\"example_collection\",\n",
    "    embedding_function=embeddings,\n",
    "    persist_directory=\"./chroma_langchain_db\",\n",
    ")"
   ]
  },
  {
   "cell_type": "code",
   "execution_count": 3,
   "id": "1afb2f47",
   "metadata": {},
   "outputs": [],
   "source": [
    "import chromadb\n",
    "\n",
    "client = chromadb.Client()\n",
    "client = chromadb.PersistentClient(path=\"./chroma_langchain_db\")"
   ]
  },
  {
   "cell_type": "code",
   "execution_count": 4,
   "id": "1953b420",
   "metadata": {},
   "outputs": [
    {
     "data": {
      "text/plain": [
       "['6b9418a1-54d6-4756-bc02-1eb5f6416a6d',\n",
       " '56b8419a-8f9a-47d0-820c-87a9d8f70638',\n",
       " 'b6e82d1b-6e16-4a29-a2ca-00e79af93b3b',\n",
       " '1768ad85-f584-41c2-bafe-e4fb9a10d1ac',\n",
       " 'd83e08a4-2af8-4dbd-86d3-7d5eea157426',\n",
       " '71b0f312-ce59-4655-900b-51fb1ae9e8ca',\n",
       " '3d920c1d-16d6-4b82-8095-6be04ee752f2',\n",
       " 'a650981c-e064-40a5-8541-3fbb7c20293c',\n",
       " '729b748d-c799-42c6-af6c-77da559f2ec9',\n",
       " '5269e6ce-906c-4e91-8f48-33d87b14898a']"
      ]
     },
     "execution_count": 4,
     "metadata": {},
     "output_type": "execute_result"
    }
   ],
   "source": [
    "from uuid import uuid4\n",
    "\n",
    "from langchain_core.documents import Document\n",
    "\n",
    "document_1 = Document(\n",
    "    page_content=\"I had chocolate chip pancakes and scrambled eggs for breakfast this morning.\",\n",
    "    metadata={\"source\": \"tweet\"},\n",
    "    id=1,\n",
    ")\n",
    "\n",
    "document_2 = Document(\n",
    "    page_content=\"The weather forecast for tomorrow is cloudy and overcast, with a high of 62 degrees.\",\n",
    "    metadata={\"source\": \"news\"},\n",
    "    id=2,\n",
    ")\n",
    "\n",
    "document_3 = Document(\n",
    "    page_content=\"Building an exciting new project with LangChain - come check it out!\",\n",
    "    metadata={\"source\": \"tweet\"},\n",
    "    id=3,\n",
    ")\n",
    "\n",
    "document_4 = Document(\n",
    "    page_content=\"Robbers broke into the city bank and stole $1 million in cash.\",\n",
    "    metadata={\"source\": \"news\"},\n",
    "    id=4,\n",
    ")\n",
    "\n",
    "document_5 = Document(\n",
    "    page_content=\"Wow! That was an amazing movie. I can't wait to see it again.\",\n",
    "    metadata={\"source\": \"tweet\"},\n",
    "    id=5,\n",
    ")\n",
    "\n",
    "document_6 = Document(\n",
    "    page_content=\"Is the new iPhone worth the price? Read this review to find out.\",\n",
    "    metadata={\"source\": \"website\"},\n",
    "    id=6,\n",
    ")\n",
    "\n",
    "document_7 = Document(\n",
    "    page_content=\"The top 10 soccer players in the world right now.\",\n",
    "    metadata={\"source\": \"website\"},\n",
    "    id=7,\n",
    ")\n",
    "\n",
    "document_8 = Document(\n",
    "    page_content=\"LangGraph is the best framework for building stateful, agentic applications!\",\n",
    "    metadata={\"source\": \"tweet\"},\n",
    "    id=8,\n",
    ")\n",
    "\n",
    "document_9 = Document(\n",
    "    page_content=\"The stock market is down 500 points today due to fears of a recession.\",\n",
    "    metadata={\"source\": \"news\"},\n",
    "    id=9,\n",
    ")\n",
    "\n",
    "document_10 = Document(\n",
    "    page_content=\"I have a bad feeling I am going to get deleted :(\",\n",
    "    metadata={\"source\": \"tweet\"},\n",
    "    id=10,\n",
    ")\n",
    "\n",
    "documents = [\n",
    "    document_1,\n",
    "    document_2,\n",
    "    document_3,\n",
    "    document_4,\n",
    "    document_5,\n",
    "    document_6,\n",
    "    document_7,\n",
    "    document_8,\n",
    "    document_9,\n",
    "    document_10,\n",
    "]\n",
    "uuids = [str(uuid4()) for _ in range(len(documents))]\n",
    "\n",
    "vector_store.add_documents(documents=documents, ids=uuids)"
   ]
  },
  {
   "cell_type": "code",
   "execution_count": 5,
   "id": "c258f4bd",
   "metadata": {},
   "outputs": [
    {
     "name": "stdout",
     "output_type": "stream",
     "text": [
      "* Building an exciting new project with LangChain - come check it out! [{'source': 'tweet'}]\n",
      "* LangGraph is the best framework for building stateful, agentic applications! [{'source': 'tweet'}]\n"
     ]
    }
   ],
   "source": [
    "results = vector_store.similarity_search(\n",
    "    \"LangChain provides abstractions to make working with LLMs easy\",\n",
    "    k=2,\n",
    "\n",
    ")\n",
    "for res in results:\n",
    "    print(f\"* {res.page_content} [{res.metadata}]\")"
   ]
  },
  {
   "cell_type": "code",
   "execution_count": 8,
   "id": "d8e78a40",
   "metadata": {},
   "outputs": [
    {
     "name": "stdout",
     "output_type": "stream",
     "text": [
      "retrever_docs [Document(id='b6e82d1b-6e16-4a29-a2ca-00e79af93b3b', metadata={'source': 'tweet'}, page_content='Building an exciting new project with LangChain - come check it out!'), Document(id='a650981c-e064-40a5-8541-3fbb7c20293c', metadata={'source': 'tweet'}, page_content='LangGraph is the best framework for building stateful, agentic applications!'), Document(id='d83e08a4-2af8-4dbd-86d3-7d5eea157426', metadata={'source': 'tweet'}, page_content=\"Wow! That was an amazing movie. I can't wait to see it again.\"), Document(id='6b9418a1-54d6-4756-bc02-1eb5f6416a6d', metadata={'source': 'tweet'}, page_content='I had chocolate chip pancakes and scrambled eggs for breakfast this morning.')]\n"
     ]
    }
   ],
   "source": [
    "retriever = vector_store.as_retriever(\n",
    "    search_type=\"similarity\",   # or \"mmr\", \"similarity_score_threshold\"\n",
    "    search_kwargs={\"k\": 4}      # number of docs to retrieve\n",
    ")\n",
    "\n",
    "retrever_docs = retriever.invoke(\"LangChain provides abstractions to make working with LLMs easy\")\n",
    "print(\"retrever_docs\",retrever_docs)"
   ]
  },
  {
   "cell_type": "code",
   "execution_count": null,
   "id": "afc47914",
   "metadata": {},
   "outputs": [],
   "source": [
    "# COHERE_API_KEY = "
   ]
  },
  {
   "cell_type": "markdown",
   "id": "25ac9926",
   "metadata": {},
   "source": [
    "### Reranking with Cohererank\n",
    "\n",
    "We use **CohereRerank** to reorder retrieved documents by relevance to the query. "
   ]
  },
  {
   "cell_type": "code",
   "execution_count": null,
   "id": "33737c4b",
   "metadata": {},
   "outputs": [
    {
     "name": "stdout",
     "output_type": "stream",
     "text": [
      "1. Building an exciting new project with LangChain - come check it out! | metadata: {'source': 'tweet', 'relevance_score': 0.00095101306}\n",
      "2. LangGraph is the best framework for building stateful, agentic applications! | metadata: {'source': 'tweet', 'relevance_score': 2.8409744e-05}\n",
      "3. I had chocolate chip pancakes and scrambled eggs for breakfast this morning. | metadata: {'source': 'tweet', 'relevance_score': 5.1630764e-07}\n"
     ]
    }
   ],
   "source": [
    "import os\n",
    "os.environ[\"CO_API_KEY\"] = \"\"  # replace with your key\n",
    "\n",
    "from langchain_cohere import CohereRerank\n",
    "from langchain.retrievers.contextual_compression import ContextualCompressionRetriever\n",
    "\n",
    "compressor = CohereRerank(\n",
    "    model=\"rerank-english-v3.0\"   # Required\n",
    ")\n",
    "\n",
    "compression_retriever = ContextualCompressionRetriever(\n",
    "    base_compressor=compressor,\n",
    "    base_retriever=retriever\n",
    ")\n",
    "\n",
    "compressed_docs = compression_retriever.invoke(\n",
    "    \"LangChain provides abstractions to make working with LLMs easy\"\n",
    ")\n",
    "\n",
    "for i, doc in enumerate(compressed_docs, start=1):\n",
    "    print(f\"{i}. {doc.page_content} | metadata: {doc.metadata}\")\n"
   ]
  }
 ],
 "metadata": {
  "kernelspec": {
   "display_name": "channel",
   "language": "python",
   "name": "python3"
  },
  "language_info": {
   "codemirror_mode": {
    "name": "ipython",
    "version": 3
   },
   "file_extension": ".py",
   "mimetype": "text/x-python",
   "name": "python",
   "nbconvert_exporter": "python",
   "pygments_lexer": "ipython3",
   "version": "3.12.9"
  }
 },
 "nbformat": 4,
 "nbformat_minor": 5
}
